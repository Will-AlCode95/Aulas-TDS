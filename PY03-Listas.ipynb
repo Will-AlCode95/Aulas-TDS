{
 "cells": [
  {
   "cell_type": "markdown",
   "metadata": {},
   "source": [
    "# Listas\n",
    "\n"
   ]
  },
  {
   "cell_type": "markdown",
   "metadata": {},
   "source": [
    "O Python pode agrupar vários dados (strings, números ou qualquer outro objeto) em uma estrutura chamada `list`. Ela é uma versão programática de uma lista como as que fazemos com papel e caneta. O papel é a memória do computador e a forma de escrever, ler e apagar os dados na lista é através de sentenças do Python.\n",
    "\n",
    "!['robôs - placar robos x 3'](img/robos_capturados-x3.png)\n",
    "\n",
    "Podemos criar uma lista dos robôs que capturamos. \n"
   ]
  },
  {
   "cell_type": "code",
   "execution_count": null,
   "metadata": {},
   "outputs": [],
   "source": [
    "robos_capturados = ['robô 1', 'robô 2', 'robô 3']"
   ]
  },
  {
   "cell_type": "markdown",
   "metadata": {},
   "source": [
    "\n",
    "Com ela, podemos pensar em melhorar o código que usamos para fazer nosso placar e também em implementar algumas ações do jogo, como a ação de `capturar um robô`.\n",
    "\n",
    "Antes de mudar o cálculo do placar e programar a captura de robôs, vamos ver o que são listas e como trabalhar com elas."
   ]
  },
  {
   "cell_type": "markdown",
   "metadata": {},
   "source": [
    "## Criando uma lista\n",
    "Observe a sintaxe da linha de código que cria a lista.\n",
    "\n",
    "A lista fica no lado direito do operador de atribuição (o sinal `=`). Os ítens da lista são separados por vírgula. Todos os ítens estão entre colchetes.\n",
    "\n",
    "Os colchetes é que dizem ao Python que está sendo criada uma lista.\n",
    "\n",
    "Ela poderia, por exemplo, ser vazia, conter um número ou mais ou uma string ou mais..."
   ]
  },
  {
   "cell_type": "code",
   "execution_count": null,
   "metadata": {},
   "outputs": [],
   "source": [
    "lista_vazia = []\n",
    "lista_com_numero = [10]\n",
    "lista_com_string = ['Mestre dos Magos']\n",
    "lista_com_numeros = [1,2,3,4,5,10,20,40,60]\n",
    "lista_com_strings = ['Jogador 1', 'Mestre dos Magos', 'Nível 20']\n"
   ]
  },
  {
   "cell_type": "markdown",
   "metadata": {},
   "source": [
    "As listas facilitam a manipulação de conjuntos de dados. Agrupamos esses dados em uma lista, geralmente em função de alguma característica que eles compartilham, e assim podemos nos referir a eles através de uma só variável.\n",
    "\n",
    "## Acessando valores de uma lista por um índice\n",
    "\n",
    "Para acessar valores armazenados em uma lista, usamos o `índice` do valor na lista, que `é a posição na lista` onde o valor foi guardado.\n",
    "\n",
    "!['robôs atacando'](img/tela-robos_atacando.png)\n",
    "\n",
    "> As posições na lista iniciam pelo número zero.\n",
    "\n",
    "Para acessar o valor que está no início da lista, por exemplo, fazemos assim:"
   ]
  },
  {
   "cell_type": "code",
   "execution_count": 1,
   "metadata": {},
   "outputs": [
    {
     "name": "stdout",
     "output_type": "stream",
     "text": [
      "robô 1\n"
     ]
    }
   ],
   "source": [
    "robos_atacando= ['robô 1', 'robô 2', 'robô 3', 'robô 4']\n",
    "print(robos_atacando[0])"
   ]
  },
  {
   "cell_type": "markdown",
   "metadata": {},
   "source": [
    "Na linha 1 criamos a lista. Estamos acessando a lista na linha 2.\n",
    "\n",
    "Repare que usamos a variável que guarda a lista seguida de colchetes e com o índice do ítem da lista entre eles. Por isso, os colchetes na linha 2 não estão criando uma nova lista com um ítem de número `0`. Os colchetes estão funcionando alí para dizer ao Python que queremos acessar uma parte de algo referenciado por aquela variável.\n",
    "\n",
    "Se não colocarmos os colchetes e o número, o Python vai entender que queremos acessar a lista toda. \n",
    "\n",
    "Vamos ver essa diferença em um exemplo com dois `prints()`"
   ]
  },
  {
   "cell_type": "code",
   "execution_count": 2,
   "metadata": {},
   "outputs": [
    {
     "name": "stdout",
     "output_type": "stream",
     "text": [
      "robô 1\n",
      "['robô 1', 'robô 2', 'robô 3', 'robô 4']\n"
     ]
    }
   ],
   "source": [
    "robos_atacando = ['robô 1', 'robô 2', 'robô 3', 'robô 4']\n",
    "\n",
    "print(robos_atacando[0])\n",
    "print(robos_atacando)"
   ]
  },
  {
   "cell_type": "markdown",
   "metadata": {},
   "source": [
    "Também podemos acessar os valores da lista indo do fim para o começo. Para isso usamos valores negativos como índice, começando por `-1`."
   ]
  },
  {
   "cell_type": "code",
   "execution_count": 3,
   "metadata": {},
   "outputs": [
    {
     "name": "stdout",
     "output_type": "stream",
     "text": [
      "robô 4\n"
     ]
    }
   ],
   "source": [
    "robos_atacando = ['robô 1', 'robô 2', 'robô 3', 'robô 4']\n",
    "\n",
    "print(robos_atacando[-1])"
   ]
  },
  {
   "cell_type": "markdown",
   "metadata": {},
   "source": [
    "Da mesma forma que o índice `0` sempre nos dá o primeiro ítem da lista, o índice `-1` sempre nos dá o último.\n",
    "\n",
    "Isso quer dizer que não importa o tamanho da lista, não precisamos saber quantos ítens ela tem para acessarmos o último. Por exemplo, vamos acrescentar 1 robô à lista e usar o mesmo índice `-1` para acessá-lo.\n"
   ]
  },
  {
   "cell_type": "code",
   "execution_count": 4,
   "metadata": {},
   "outputs": [
    {
     "name": "stdout",
     "output_type": "stream",
     "text": [
      "robô 5\n"
     ]
    }
   ],
   "source": [
    "robos_atacando = ['robô 1', 'robô 2', 'robô 3', 'robô 4', 'robô 5']\n",
    "\n",
    "print(robos_atacando[-1])"
   ]
  },
  {
   "cell_type": "markdown",
   "metadata": {},
   "source": [
    "Agora o índice `-1` está retornando o `robô 5` ao invés do `robô 4`, como já esperávamos."
   ]
  },
  {
   "cell_type": "markdown",
   "metadata": {},
   "source": [
    "## Acessando caracteres de strings por um índice\n",
    "\n",
    "Em Python, uma string pode ser acessada como se fosse uma lista de caracteres, usando a mesma sintaxe de acesso por índices como fizemos com as listas.\n",
    "\n",
    "No exemplo abaixo acessamos a primeira, quarta e última letra de uma string através dos índices `0`, `3` e `-1`, respectivamente."
   ]
  },
  {
   "cell_type": "code",
   "execution_count": 5,
   "metadata": {},
   "outputs": [
    {
     "name": "stdout",
     "output_type": "stream",
     "text": [
      "r\n",
      "ô\n",
      "8\n"
     ]
    }
   ],
   "source": [
    "letra_inicial = 'robô 8'[0]\n",
    "quarta_letra = 'robô 8'[3]\n",
    "letra_final = 'robô 8'[-1]\n",
    "\n",
    "print(letra_inicial)\n",
    "print(quarta_letra)\n",
    "print(letra_final)\n"
   ]
  },
  {
   "cell_type": "markdown",
   "metadata": {},
   "source": [
    "## Adicionando e removendo ítens na lista\n",
    "\n",
    "Os valores que estão em uma lista não precisam ser declarados quando a lista é criada, como fizemos. Podemos adicionar e remover ítens de uma lista depois de ela já ter sido criada.\n",
    "\n",
    "Para adicionar um ítem usamos o método `append()`, que significa `acrescentar`. Para apagar um ítem, usamos o comando `del`, que é a abreviação de `delir` ou `deletar`.\n"
   ]
  },
  {
   "cell_type": "code",
   "execution_count": 6,
   "metadata": {},
   "outputs": [
    {
     "name": "stdout",
     "output_type": "stream",
     "text": [
      "['robô 1', 'robô 2', 'robô 4', 'robô 5']\n"
     ]
    }
   ],
   "source": [
    "robos_atacando = ['robô 1', 'robô 2', 'robô 3', 'robô 4', 'robô 5']\n",
    "\n",
    "# Deleta um ítem da lista\n",
    "del robos_atacando[2]\n",
    "\n",
    "print(robos_atacando)\n"
   ]
  },
  {
   "cell_type": "markdown",
   "metadata": {},
   "source": [
    "!['del robos_atacando[2]](img/tela-robos_atacando-del2.png)"
   ]
  },
  {
   "cell_type": "code",
   "execution_count": 7,
   "metadata": {},
   "outputs": [
    {
     "name": "stdout",
     "output_type": "stream",
     "text": [
      "['robô 0', 'robô 3']\n"
     ]
    }
   ],
   "source": [
    "robos_capturados = ['robô 0']\n",
    "\n",
    "# Adiciona um ítem à lista\n",
    "robos_capturados.append('robô 3')\n",
    "\n",
    "print(robos_capturados)"
   ]
  },
  {
   "cell_type": "markdown",
   "metadata": {},
   "source": [
    "!['robos_capturados.append('robô 3')](img/tela-robos_capturados-append.png)"
   ]
  },
  {
   "cell_type": "markdown",
   "metadata": {},
   "source": [
    "Note duas coisas:\n",
    "\n",
    "- ao adicionar um ítem, ele vai para o final da lista\n",
    "- ao deletar um ítem, os demais ítens são deslocados para a esquerda para preencher o espaço que ficou e todos os seus índice, por isso, vão mudar\n"
   ]
  },
  {
   "cell_type": "markdown",
   "metadata": {},
   "source": [
    "## Aritmética com listas e strings\n",
    "\n",
    "Já que podemos acessar strings usando índices, como fazemos com as listas, poderíamos pensar que faria sentido usar com as strings o comando `del` para apagar caracteres de uma string e o método `append()` para acrescentar caracteres a uma strings. Isso não é possível.\n",
    "\n",
    "Há uma diferença importante entre strings e listas:\n",
    "\n",
    "> Strings não podem ter seu valor alterado, por isso não podemos deletar nem adicionar caracteres a elas.\n",
    "\n",
    "Listas são uma estrutura de dados mais maleável que uma strings e por isso podemos fazer com elas coisas diferentes das que fazemos com strings.\n",
    "\n",
    "Entretanto, é possível fazer operações de soma (com o operador `+`) strings, que é uma forma de concatenar valores a uma string.\n",
    "\n"
   ]
  },
  {
   "cell_type": "code",
   "execution_count": 8,
   "metadata": {},
   "outputs": [
    {
     "data": {
      "text/plain": [
       "'abcde'"
      ]
     },
     "execution_count": 8,
     "metadata": {},
     "output_type": "execute_result"
    }
   ],
   "source": [
    "'abc' + 'de'"
   ]
  },
  {
   "cell_type": "markdown",
   "metadata": {},
   "source": [
    "\n",
    "Isso é parecido com o que o método `append()` faz com as listas, mas a diferença aqui é que a string que resulta da operação `+` é uma nova string. Ela não é a mesma string de antes só que com um pedaço a mais. \n",
    "\n",
    "\n",
    "Também não é possível usar o `del` para apagar um caracter da string. Experimente rodar o código abaixo e ver a mensagem de erro do Python, dizendo que um objeto String não suporta deleção.\n",
    "\n",
    "<pre>\n",
    "      1 nome = 'abc defgh'\n",
    "----> 2 del nome[2]\n",
    "      4 print(nome)\n",
    "\n",
    "TypeError: 'str' object doesn't support item deletion\n",
    "<pre>"
   ]
  },
  {
   "cell_type": "code",
   "execution_count": null,
   "metadata": {},
   "outputs": [],
   "source": [
    "nome = 'abc defgh'\n",
    "del nome[2]\n",
    "\n",
    "print(nome)"
   ]
  },
  {
   "cell_type": "markdown",
   "metadata": {},
   "source": [
    "O operador `+` funciona também com listas. Com listas, seu significado é o de `concatenação`. Somar uma lista com outra significa `concatenar` as duas listas."
   ]
  },
  {
   "cell_type": "code",
   "execution_count": 9,
   "metadata": {},
   "outputs": [
    {
     "name": "stdout",
     "output_type": "stream",
     "text": [
      "['robô 1', 'robô 2', 'robô 3', 'robô 0', 'robô 6', 'robô 7']\n"
     ]
    }
   ],
   "source": [
    "robos_atacando = ['robô 0', 'robô 6', 'robô 7']\n",
    "robos_capturados = ['robô 1', 'robô 2', 'robô 3']\n",
    "\n",
    "todos_os_robos = robos_capturados + robos_atacando\n",
    "\n",
    "print(todos_os_robos)"
   ]
  },
  {
   "cell_type": "markdown",
   "metadata": {},
   "source": [
    "## Contando os ítens de uma lista\n",
    "\n",
    "O Python tem a função `len()`, que é a abreviação de `length`, que significa `comprimento. Ela retorna o `comprimento de uma sequência`. \n",
    "\n",
    "> **Sequência** é um nome genérico que se refere tanto à listas quanto a strings e outras coisas que o Python trata, em alguns casos, simplesmente como *sequências de dados*.\n",
    "\n",
    "A função `len()`, por isso, vai funcionar tanto com listas quanto com strings."
   ]
  },
  {
   "cell_type": "code",
   "execution_count": 10,
   "metadata": {},
   "outputs": [
    {
     "name": "stdout",
     "output_type": "stream",
     "text": [
      "16\n",
      "3\n"
     ]
    }
   ],
   "source": [
    "robos_capturados = ['robô 1', 'robô 2', 'robô 3']\n",
    "\n",
    "print(len('Mestre dos Magos'))\n",
    "print(len(robos_capturados))\n"
   ]
  },
  {
   "cell_type": "markdown",
   "metadata": {},
   "source": [
    "## Recalculando o placar usando o comprimento da lista\n",
    "\n",
    "Podemos refazer o cálculo do placar agora usando uma lista com os robôs capturados na rodada. \n",
    "\n",
    "Antes, usávamos uma variável para guardar esse valor. Agora, podemos usar uma lista de robôs e calcular seu comprimento para obter esse valor.\n",
    "\n",
    "> No próximo projeto vamos ver como fazer uma função que atualiza a lista de robôs capturados, ou seja, uma função que faz a captura de um robô.\n",
    "\n",
    "O código abaixo é o resultado do projeto anterior. "
   ]
  },
  {
   "cell_type": "code",
   "execution_count": 11,
   "metadata": {},
   "outputs": [
    {
     "name": "stdout",
     "output_type": "stream",
     "text": [
      "\n",
      "Fim da rodada, Mestre dos Magos\n",
      "\n",
      "\n",
      "    Você fez 78 pontos.\n",
      "          🧙\n",
      "\n",
      "\n",
      "       XP: 20\n",
      "       🤖 x 3\n",
      "       🧙 x 6\n",
      "       ✨ x 12\n",
      "\n",
      "\n",
      "   Quer continuar ?\n",
      "    (S)im / (N)ão\n",
      "\n"
     ]
    }
   ],
   "source": [
    "jogador = 'Mestre dos Magos'\n",
    "\n",
    "experiencia = 20\n",
    "pts_experiencia = 2\n",
    "pts_magia = 4\n",
    "# Usando uma lista para guardas os robôs capturados na rodada\n",
    "robos_capturados = ['robô 1', 'robô 2', 'robô 3']\n",
    "\n",
    "# podemos calcular o tamanho da lista robos_capturados\n",
    "# e assim obtemos o valor da variável robos\n",
    "robos = len(robos_capturados)\n",
    "\n",
    "# Cálculo da pontuação na rodada\n",
    "xp = robos * pts_experiencia\n",
    "magia = robos * pts_magia\n",
    "bonus_xp = robos * experiencia\n",
    "\n",
    "pontuacao = xp + magia + bonus_xp\n",
    "\n",
    "# Montagem da tela \n",
    "cabecalho = '''\n",
    "Fim da rodada, %s\n",
    "'''\n",
    "\n",
    "corpo = '''\n",
    "    Você fez %s pontos.\n",
    "          \\N{mage}\n",
    "'''\n",
    "\n",
    "estatisticas = '''\n",
    "       XP: %s\n",
    "       \\N{robot face} x %s\n",
    "       \\N{mage} x %s\n",
    "       \\N{sparkles} x %s\n",
    "'''\n",
    "rodape ='''\n",
    "   Quer continuar ?\n",
    "    (S)im / (N)ão\n",
    "'''\n",
    "\n",
    "print(cabecalho % jogador)\n",
    "print(corpo % pontuacao)\n",
    "print(estatisticas % (experiencia, robos, xp, magia))\n",
    "print(rodape)"
   ]
  }
 ],
 "metadata": {
  "kernelspec": {
   "display_name": "Python 3.10.5 64-bit (windows store)",
   "language": "python",
   "name": "python3"
  },
  "language_info": {
   "codemirror_mode": {
    "name": "ipython",
    "version": 3
   },
   "file_extension": ".py",
   "mimetype": "text/x-python",
   "name": "python",
   "nbconvert_exporter": "python",
   "pygments_lexer": "ipython3",
   "version": "3.10.5"
  },
  "orig_nbformat": 4,
  "vscode": {
   "interpreter": {
    "hash": "81d56cede9ef4caf6a61e146de670b37a2edead0ccb6294f4b93deebf2edb1a9"
   }
  }
 },
 "nbformat": 4,
 "nbformat_minor": 2
}
