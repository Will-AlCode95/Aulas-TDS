{
 "cells": [
  {
   "cell_type": "markdown",
   "metadata": {},
   "source": [
    "# Funções\n",
    "\n",
    "Já usamos algumas funções que vêm com a linguagem Python, como `print()`, `type()` e `input()`. Vimos que elas executam uma operação quando são chamadas e que podem receber parâmetros e retornar valores para nosso programa. \n",
    "\n",
    "Agora vamos ver como criar nossas próprias funções. Isso vai nos ajudar a entender melhor como as funções funcionam e também a organizarmos e reutilizarmos os programas que fazemos."
   ]
  },
  {
   "cell_type": "markdown",
   "metadata": {},
   "source": [
    "## Definindo uma nova função\n",
    "\n",
    "Para definir uma função:\n",
    "- usamos o comando `def`\n",
    "- após o `def` escrevemos o nome da função\n",
    "- após o nome da função abrimos e fechamos parênteses para indicar que trata-se de uma função\n",
    "- caso a função vá receber parâmetros, escrevemos os parâmetros entre os parênteses e separamos cada um por vírgula\n",
    "- terminamos escrevendo `:` para indicar ao Python que o trecho de código a seguir é o `corpo da função`, ou seja, o bloco de código que será executado quando a função for chamada em algum ponto do programa\n",
    "- é obrigatório indentar o corpo da função (com 1 tabulação ou espaços)\n",
    "- é opcional escrever uma linha com o comando `return` para retornar algum valor para o programa que chamar esta função"
   ]
  },
  {
   "cell_type": "markdown",
   "metadata": {},
   "source": [
    "### Exemplo 01\n",
    "\n",
    "Define uma função chamada `soma2()` que recebe dois parâmetros, que serão acessados dentro da função pelos identificadores `a` e `b`. A função **retorna** um valor, que é a soma dos dois parâmetros."
   ]
  },
  {
   "cell_type": "code",
   "execution_count": null,
   "metadata": {},
   "outputs": [],
   "source": [
    "def soma2(a, b):\n",
    "    soma = a + b\n",
    "    return soma"
   ]
  },
  {
   "cell_type": "markdown",
   "metadata": {},
   "source": [
    "### Usando a nova função\n",
    "\n",
    "Para usar a função que acabamos de criar chamamos ela pelo seu nome e passamos para ela os parâmetros necessários. Podemos chamá-la em qualquer ponto do código desde que a função tenha sido definida antes."
   ]
  },
  {
   "cell_type": "code",
   "execution_count": null,
   "metadata": {},
   "outputs": [],
   "source": [
    "# Primeiro definimos a função\n",
    "def soma2(a, b):\n",
    "    soma = a + b\n",
    "    return soma\n",
    "\n",
    "# Agora podemos chamar a função que acabamos de definir\n",
    "\n",
    "resposta = soma2(2, 6)\n",
    "print(resposta)"
   ]
  },
  {
   "cell_type": "markdown",
   "metadata": {},
   "source": [
    "### Considerações sobre design (simplicidade, reusabilidade e clareza do código)\n",
    "\n",
    "Observe que a função `soma2()` retorna o valor da soma e, diferente das outras implementações desse simples algorítmo que já vimos, ela não usa a função `print()` para dar a resposta ao usuário. Ela também não usa a função `input()` para receber os valores a serem somados, mas sim recebe eles como parâmetros. Por que isso?\n",
    "\n",
    "É comum escrevermos novas funções de modo a que elas sejam fáceis de serem utilizadas muitas vezes em diversas situações. Se escrevessemos o código que dá a resposta da soma usando `print()` como fizemos antes, a função ficaria mais difícil de ser usada em uma situação onde não fosse necessário escrever a resposta no momento em que o valor é calculado.\n",
    "\n",
    "Por exemplo:\n"
   ]
  },
  {
   "cell_type": "code",
   "execution_count": null,
   "metadata": {},
   "outputs": [],
   "source": [
    "# Primeiro definimos a função\n",
    "def soma2(a, b):\n",
    "    soma = a + b\n",
    "    return soma\n",
    "\n",
    "# Agora usamos ela duas vezes    \n",
    "somaX = soma2(4, 8)\n",
    "somaY = soma2(12, 2)\n",
    "\n",
    "print('Soma das somas: ', (somaX + somaY))"
   ]
  },
  {
   "cell_type": "markdown",
   "metadata": {},
   "source": [
    "Nesse exemplo não queremos que a função escreva na tela o valor da soma a cada vez que ela é chamada. Queremos escrever apenas uma mensagem no final do programa informando o valor da soma das duas somas.\n",
    "\n",
    "Veja como ficaria a tela de saída caso a função `soma2()` fosse escrita usando `print()` para dar a resposta.\n"
   ]
  },
  {
   "cell_type": "code",
   "execution_count": null,
   "metadata": {},
   "outputs": [],
   "source": [
    "# Primeiro definimos a função\n",
    "def soma2(a, b):\n",
    "    soma = a + b\n",
    "    print('Valor da soma: ', soma)\n",
    "    return soma\n",
    "\n",
    "# Agora usamos ela duas vezes    \n",
    "somaX = soma2(4, 8)\n",
    "somaY = soma2(12, 2)\n",
    "\n",
    "print('Soma das somas: ', (somaX + somaY))"
   ]
  },
  {
   "cell_type": "markdown",
   "metadata": {},
   "source": [
    "Agora, caso quiséssemos realmente escrever o valor de cada uma das somas após a execução da função `soma2()`, poderíamos fazer isso usando a primeira versão dela, sem `print()`. Escreveríamos as linhas com `print()` em nosso código, que usa a função `soma2()`, e não na própria função.\n",
    "\n",
    "Assim:"
   ]
  },
  {
   "cell_type": "code",
   "execution_count": null,
   "metadata": {},
   "outputs": [],
   "source": [
    "# Primeiro definimos a função\n",
    "def soma2(a, b):\n",
    "    soma = a + b\n",
    "    return soma\n",
    "\n",
    "# Agora usamos ela duas vezes    \n",
    "somaX = soma2(4, 8)\n",
    "print('Valor da soma = ', somaX)\n",
    "somaY = soma2(12, 2)\n",
    "print('Valor da soma = ', somaY)\n",
    "\n",
    "print('Soma das somas: ', (somaX + somaY))"
   ]
  },
  {
   "cell_type": "markdown",
   "metadata": {},
   "source": [
    "As vantagens agora são duas. \n",
    "\n",
    "1. É uma opção *de quem usa*  a função escrever ou não a mensagem de saída\n",
    "1. O texto da mensagem pode ser definido por quem usa a função, já que ele não está escrito *estático* no código da função\n",
    "\n",
    "Poderíamos não escrever a primeira mensagem e mudar o texto da segunda.\n",
    "\n",
    "Assim:"
   ]
  },
  {
   "cell_type": "code",
   "execution_count": null,
   "metadata": {},
   "outputs": [],
   "source": [
    "# Primeiro definimos a função\n",
    "def soma2(a, b):\n",
    "    soma = a + b\n",
    "    return soma\n",
    "\n",
    "# Agora usamos ela duas vezes    \n",
    "somaX = soma2(4, 8)\n",
    "somaY = soma2(12, 2)\n",
    "print('A somaY é: ', somaY)\n",
    "\n",
    "print('Soma das somas: ', (somaX + somaY))"
   ]
  },
  {
   "cell_type": "markdown",
   "metadata": {},
   "source": [
    "A conclusão é, então, que assim, nessa versão, o código da função `soma2()` ficou:\n",
    "\n",
    "- mais **reutilizável**\n",
    "- mais **simples**, porque contém menos instruções\n",
    "- mais **claro**, porque ele *faz apenas uma tarefa*, que é a de fazer a soma, e não faz também a tarefa de fazer a interface com o usuário do programa\n",
    "\n",
    "Ao deixar a parte do código que faz a interface com o usuário a cargo de outra parte do programa, estamos também dividindo melhor as **responsabilidades** das várias partes do código. Vamos falar mais sobre isso na lição sobre **classes e objetos**."
   ]
  }
 ],
 "metadata": {
  "kernelspec": {
   "display_name": "Python 3.10.5 64-bit (windows store)",
   "language": "python",
   "name": "python3"
  },
  "language_info": {
   "codemirror_mode": {
    "name": "ipython",
    "version": 3
   },
   "file_extension": ".py",
   "mimetype": "text/x-python",
   "name": "python",
   "nbconvert_exporter": "python",
   "pygments_lexer": "ipython3",
   "version": "3.10.5"
  },
  "orig_nbformat": 4,
  "vscode": {
   "interpreter": {
    "hash": "81d56cede9ef4caf6a61e146de670b37a2edead0ccb6294f4b93deebf2edb1a9"
   }
  }
 },
 "nbformat": 4,
 "nbformat_minor": 2
}
