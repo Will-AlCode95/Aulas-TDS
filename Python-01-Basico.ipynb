{
 "cells": [
  {
   "cell_type": "markdown",
   "id": "e1d19ced-3f5c-4e57-aba7-d6b4ced7817c",
   "metadata": {},
   "source": [
    "# Python básico"
   ]
  },
  {
   "cell_type": "markdown",
   "id": "872ac428",
   "metadata": {},
   "source": [
    "## Literais\n",
    "\n",
    "Literais são valores representados explicitamente no programa e que não mudam durante a execução. Podem ser números, valores lógicos, caracteres ou strings. (LIVI, EDELWEIS, 2014, pg. 26)\n"
   ]
  },
  {
   "cell_type": "markdown",
   "id": "a8412526",
   "metadata": {},
   "source": [
    "### Números"
   ]
  },
  {
   "cell_type": "code",
   "execution_count": null,
   "id": "b5c03367",
   "metadata": {},
   "outputs": [],
   "source": [
    "# Inteiros\n",
    "10"
   ]
  },
  {
   "cell_type": "code",
   "execution_count": null,
   "id": "277fa8b8",
   "metadata": {},
   "outputs": [],
   "source": [
    "# Fracionários - chamados Reais ou de Ponto Flutuante\n",
    "\n",
    "10.2"
   ]
  },
  {
   "cell_type": "markdown",
   "id": "3593b0c0",
   "metadata": {},
   "source": [
    "### Valores Lógicos - ou, *booleanos*"
   ]
  },
  {
   "cell_type": "code",
   "execution_count": null,
   "id": "5671281d",
   "metadata": {},
   "outputs": [],
   "source": [
    "True"
   ]
  },
  {
   "cell_type": "code",
   "execution_count": null,
   "id": "e6ca4dee",
   "metadata": {},
   "outputs": [],
   "source": [
    "False"
   ]
  },
  {
   "cell_type": "code",
   "execution_count": null,
   "id": "4d1eeca0",
   "metadata": {},
   "outputs": [],
   "source": [
    "# Um exemplo onde ocorrem \n",
    "# esses valores é em uma\n",
    "# comparação\n",
    "\n",
    "10 > 5\n",
    "\n",
    "# O resultado da comparação\n",
    "# é True (verdade) porque\n",
    "# é verdade que \n",
    "# 10 é maior que 5"
   ]
  },
  {
   "cell_type": "markdown",
   "id": "45c9424c",
   "metadata": {},
   "source": [
    "### Caracteres e Strings\n",
    "\n",
    "Um *caracter* é qualquer letra, número ou símbolo que esteja sendo tratado como texto pelo programa. \n",
    "Strings são uma concatenação de caracteres - um ou mais caracteres colocados em sequência. \n",
    "\n",
    "Strings e caracteres são representados entre aspas simples ou duplas."
   ]
  },
  {
   "cell_type": "code",
   "execution_count": null,
   "id": "902e67dd",
   "metadata": {},
   "outputs": [],
   "source": [
    "'a'"
   ]
  },
  {
   "cell_type": "code",
   "execution_count": null,
   "id": "4bf01a04",
   "metadata": {},
   "outputs": [],
   "source": [
    "'1'"
   ]
  },
  {
   "cell_type": "code",
   "execution_count": null,
   "id": "0c6a6279",
   "metadata": {},
   "outputs": [],
   "source": [
    "'@'"
   ]
  },
  {
   "cell_type": "code",
   "execution_count": null,
   "id": "9184c1e9",
   "metadata": {},
   "outputs": [],
   "source": [
    "\"uma string de caracteres\""
   ]
  },
  {
   "cell_type": "code",
   "execution_count": null,
   "id": "0f4172ad",
   "metadata": {},
   "outputs": [],
   "source": [
    "'também uma string'"
   ]
  },
  {
   "cell_type": "code",
   "execution_count": null,
   "id": "607c7c0d",
   "metadata": {},
   "outputs": [],
   "source": [
    "'## (51) 98877-1122'"
   ]
  },
  {
   "cell_type": "markdown",
   "id": "9f083b4e",
   "metadata": {},
   "source": [
    "## Identificadores\n",
    "\n",
    "São as palavras criadas pelo programador para denominar o próprio programa ou elementos\n",
    "dentro do mesmo, tais como: variáveis, constantes ou subprogramas. (LIVI, EDELWEIS, 2014, pg. 27)"
   ]
  },
  {
   "cell_type": "markdown",
   "id": "4fdd7893",
   "metadata": {},
   "source": [
    "Quando damos um nome a uma variável, como fizemos na aula anterior, estamos criando um identificador."
   ]
  },
  {
   "cell_type": "code",
   "execution_count": null,
   "id": "f7402572",
   "metadata": {},
   "outputs": [],
   "source": [
    "resposta = 10 * 5.000"
   ]
  },
  {
   "cell_type": "markdown",
   "id": "ad2e33c0",
   "metadata": {},
   "source": [
    "agora podemos usar a palavra 'resposta' para identificar a variável que acabamos de declarar"
   ]
  },
  {
   "cell_type": "code",
   "execution_count": null,
   "id": "11e11605",
   "metadata": {},
   "outputs": [],
   "source": [
    "resposta"
   ]
  },
  {
   "cell_type": "markdown",
   "id": "77b6b823",
   "metadata": {},
   "source": [
    "Depois, também vamos usar identificadores para dar nome a funções que criaremos\n",
    "\n",
    "Assim:"
   ]
  },
  {
   "cell_type": "code",
   "execution_count": null,
   "id": "562c5662",
   "metadata": {},
   "outputs": [],
   "source": [
    "def uma_funcao():\n",
    "    print(10 * 6.000)"
   ]
  },
  {
   "cell_type": "markdown",
   "id": "3e773da6",
   "metadata": {},
   "source": [
    "Usamos a palavra 'uma_funcao' para identificar uma nova função que  estávamos definindo (note a palavra 'dev') antes do nome da função.\n",
    "\n",
    "Agora podemos usar esse nome para nos referirmos a função"
   ]
  },
  {
   "cell_type": "code",
   "execution_count": null,
   "id": "01094bfc",
   "metadata": {},
   "outputs": [],
   "source": [
    "uma_funcao()"
   ]
  },
  {
   "cell_type": "markdown",
   "id": "6388ef8c",
   "metadata": {},
   "source": [
    "### Identificadores em Python\n",
    "\n",
    "A linguagem Python tem restrições para o uso de identificadores.\n",
    "\n",
    "- Devem começar com uma letra ou sublinhado\n",
    "- Devem ter no máximo 256 caracteres\n",
    "- Não podem conter símbolos matemáticos (+, -, *, / e parenteses)\n",
    "- Após o primeiro caracterer podem ser usados números, cifrão, sublinhado e letras\n",
    "- Não podem ter acentuação nem espaços em branco"
   ]
  },
  {
   "cell_type": "markdown",
   "id": "299fef18",
   "metadata": {},
   "source": [
    "## Palavras reservadas\n",
    "\n",
    "Você não pode usar como identificar nenhuma das palavras reservadas de uma linguagem. Elas são usadas para identificar comandos e outros elementos sintáticos da linguagem.\n",
    "\n",
    "No caso do Python, as palavras reservadas são 33:"
   ]
  },
  {
   "cell_type": "code",
   "execution_count": null,
   "id": "7998f966",
   "metadata": {},
   "outputs": [],
   "source": [
    "import keyword\n",
    "keyword.kwlist"
   ]
  },
  {
   "cell_type": "markdown",
   "id": "a4384955",
   "metadata": {},
   "source": [
    "## Símbolos especiais\n",
    "\n",
    "Símbolos especiais servem para delimitar ações, separar elementos, efetuar operações ou indicar ações específicas. (EDELWEIS, LIVI, 2014, pg. 28)\n"
   ]
  },
  {
   "cell_type": "markdown",
   "id": "be5f0697",
   "metadata": {},
   "source": [
    "Estes são alguns símbolos que têm significado especial na linguagem - pertencem à sintaxe da linguagem.\n",
    "\n",
    "- `#` – É usado para iniciar um linha de comentário\n",
    "\n",
    "- `\\n` – É usado em Strings para indicar uma quebra de linha (nova linha) \n",
    "- `\\` – A contrabarra é usada para quebrar uma linha de código, permitindo escrever em duas ou mais linhas uma linha de código muito longa para ser escrita em uma linha só\n",
    "- `;` – É usado para separar linhas de código quando elas são escritas em uma mesma linha de texto\n",
    "\n",
    "- `:` – Usado para indicar o início de um bloco de código\n",
    "\n",
    "Além de todos os símbolos usados para efetuar operações matemáticas básicas, como `+`, `-`, `*`, `/`, `(` e `)`, e também operações lógicas booleanas e com conjuntos, como `&` e `|` entre outros."
   ]
  },
  {
   "cell_type": "markdown",
   "id": "e65eb093",
   "metadata": {},
   "source": [
    "---"
   ]
  },
  {
   "cell_type": "markdown",
   "id": "6e16d4b1-30f9-426c-859a-ae0babbb17d9",
   "metadata": {},
   "source": [
    "## Variáveis\n",
    "\n",
    "Variáveis são criadas na primeira vez que um valor é atribuído a elas. Não existe a etapa de \"declaração de variáveis\" como em outras linguagens.\n"
   ]
  },
  {
   "cell_type": "code",
   "execution_count": null,
   "id": "eb32b63e-3eec-49ab-9840-0748ea500ac0",
   "metadata": {},
   "outputs": [],
   "source": [
    "# a variável x é criada no momento que\n",
    "# atribuímos o valor 10 a ela\n",
    "x = 100 \n",
    "\n",
    "# imprime o conteúdo da variável x\n",
    "print(x)"
   ]
  },
  {
   "cell_type": "markdown",
   "id": "6a2a13ff-44d1-4331-b1d5-ac999aacfa1a",
   "metadata": {},
   "source": [
    "## Tipos de dados\n",
    "\n",
    "As variáveis em Python podem conter qualquer tipo de valor. Elas não são \"tipadas\". \n"
   ]
  },
  {
   "cell_type": "code",
   "execution_count": null,
   "id": "176fd259",
   "metadata": {},
   "outputs": [],
   "source": [
    "# criação da variável x inicializada com valor 10\n",
    "x = 10 \n",
    "\n",
    "# criação da variável s contendo uma string\n",
    "s = \"uma string\""
   ]
  },
  {
   "cell_type": "markdown",
   "id": "2723318a",
   "metadata": {},
   "source": [
    "As variáveis também não precisam conter sempre o mesmo tipo de valor. Se atribuirmos a uma variável já existente um valor de tipo diferente ela passa a ser daquele tipo."
   ]
  },
  {
   "cell_type": "code",
   "execution_count": null,
   "id": "a546f511",
   "metadata": {},
   "outputs": [],
   "source": [
    "# a mesma variável x agora é uma string\n",
    "x = \"agora uma string\"\n",
    "\n",
    "# a variável que antes era uma string agora é um inteiro\n",
    "s = 20"
   ]
  },
  {
   "cell_type": "markdown",
   "id": "e423f872",
   "metadata": {},
   "source": [
    "\n",
    "A variável x é criada mas agora seu tipo é String. Strings são uma cadeia de caracteres, como veremos adiante. Ou seja, aqui a variável x não contém um número inteiro - o número 10 - mas sim dois caracteres - o caracter 1 e caracter 0 - assim: '10'. Seu valor é, portanto, um texto e não um número."
   ]
  },
  {
   "cell_type": "markdown",
   "id": "fa914468-bc3e-4e54-a029-82c803031346",
   "metadata": {},
   "source": [
    "### Conversão de tipo\n",
    "\n",
    "Aqui a variável y armazena um valor numérico de tipo inteiro, um int."
   ]
  },
  {
   "cell_type": "code",
   "execution_count": null,
   "id": "11b82a34-5104-470a-b4a4-ed1aa937558d",
   "metadata": {},
   "outputs": [],
   "source": [
    "x = str(20)\n",
    "y = int('10')"
   ]
  },
  {
   "cell_type": "code",
   "execution_count": null,
   "id": "338bf52d",
   "metadata": {},
   "outputs": [],
   "source": [
    "# Rode esta célula para ver o valor de x\n",
    "# note que é uma string (está entre aspas)\n",
    "x"
   ]
  },
  {
   "cell_type": "code",
   "execution_count": null,
   "id": "b47f6e1c",
   "metadata": {},
   "outputs": [],
   "source": [
    "# Rode esta célula para ver o valor de y\n",
    "# note que é um int (não está entre aspas)\n",
    "y"
   ]
  },
  {
   "cell_type": "markdown",
   "id": "faa4b5da-40bf-49fd-af0c-3ee38ced9eda",
   "metadata": {},
   "source": [
    "\n",
    "Para saber qual o tipo de uma variável usamos a função <code>type()</code>"
   ]
  },
  {
   "cell_type": "code",
   "execution_count": null,
   "id": "7dae848f-1a80-4b9e-9910-5f6b7d7685db",
   "metadata": {},
   "outputs": [],
   "source": [
    "# imprime o tipo da variável x\n",
    "type(x)"
   ]
  },
  {
   "cell_type": "markdown",
   "id": "6806b5f1-26a3-4114-8c31-4159c6210e34",
   "metadata": {},
   "source": [
    "\n",
    "## Criando Strings\n",
    "\n",
    "Para criar uma string basta colocar o valor da string entre aspas duplas ou aspas simples."
   ]
  },
  {
   "cell_type": "markdown",
   "id": "a8cad5dc-e894-44a0-ab7b-df6719782245",
   "metadata": {},
   "source": [
    "No bloco de código abaixo, a variável chamada <code>texto</code> armazena a String <code>\"Oi, oi, oi!\"</code>.\n",
    "\n",
    "As aspas não fazem parte do valor da variável. Elas são parte da sintaxe do Python e são usadas apenas para indicar que o conteúdo que está entre elas é uma cadeia de caracteres, uma String."
   ]
  },
  {
   "cell_type": "code",
   "execution_count": null,
   "id": "351605a7-9ac5-4bdc-b89d-8d9d6e42efe2",
   "metadata": {},
   "outputs": [],
   "source": [
    "texto = \"Oi, oi, oi!\""
   ]
  },
  {
   "cell_type": "markdown",
   "id": "b8bc237e-d68b-429b-bcda-448354349172",
   "metadata": {},
   "source": [
    "## Atribuição múltipla de valores\n",
    "\n",
    "Podemos atribuir vários valores a variáveis diferentes ao mesmo tempo, em uma só linha de código.\n"
   ]
  },
  {
   "cell_type": "markdown",
   "id": "b38c7e21-4c4f-49fe-a4bb-c5a6bcb4d831",
   "metadata": {},
   "source": [
    "Aqui vamos criar duas variáveis, chamadas nome e apelido. nome contém a string Gustavo\" e apelido contém a string \"profe\"."
   ]
  },
  {
   "cell_type": "code",
   "execution_count": null,
   "id": "cdf4d628-1b9d-4b4d-a486-4d529cf2ac85",
   "metadata": {},
   "outputs": [],
   "source": [
    "nome, apelido = \"Gustavo\", \"profe\"\n",
    "\n",
    "# essa linha é equivalente a:\n",
    "\n",
    "nome = \"Gustavo\"\n",
    "apelido = \"profe\""
   ]
  },
  {
   "cell_type": "markdown",
   "id": "1fd21e67-0aac-44bb-877d-56a7c7b437b1",
   "metadata": {},
   "source": [
    "\n",
    "## Tipos de dados comuns do Python\n",
    "\n",
    "Estes são alguns tipos de dado comuns do Python, separados em grupos:"
   ]
  },
  {
   "cell_type": "markdown",
   "id": "36994fd8-1930-412c-b159-fb24809e95cc",
   "metadata": {},
   "source": [
    "### Texto: <code>str</code>"
   ]
  },
  {
   "cell_type": "code",
   "execution_count": null,
   "id": "afbf8683-4361-414c-83c4-7003520f1c58",
   "metadata": {},
   "outputs": [],
   "source": [
    "nome = \"Gustavo\""
   ]
  },
  {
   "cell_type": "markdown",
   "id": "866a72c2-1a71-4daa-8366-c893686d1932",
   "metadata": {},
   "source": [
    "\n",
    "### Números: <code>int, float</code>"
   ]
  },
  {
   "cell_type": "code",
   "execution_count": null,
   "id": "04b2f5f2-216a-4939-987d-7cc865e50659",
   "metadata": {},
   "outputs": [],
   "source": [
    "x = 10 # este é um inteiro\n",
    "y = 10.5 # este é um float"
   ]
  },
  {
   "cell_type": "markdown",
   "id": "1211453e-e272-46bd-8208-36e3b844c300",
   "metadata": {},
   "source": [
    "### Lógicos: <code>bool</code>"
   ]
  },
  {
   "cell_type": "code",
   "execution_count": null,
   "id": "d94127f0-ad8f-47c6-8530-0545dd01024f",
   "metadata": {},
   "outputs": [],
   "source": [
    "pronto = True\n",
    "# Booleano com valor de verdade True (verdadeiro)\n",
    "\n",
    "acabou = False\n",
    "# booleano com valor Falso"
   ]
  },
  {
   "cell_type": "markdown",
   "id": "8554c69d-7209-49fd-9bb0-2a4b9e6d8fd1",
   "metadata": {},
   "source": [
    "\n",
    "### Sequências: <code>range, list</code>\n",
    "\n",
    "No exemplo, <code>nomes</code> é uma variável que armazena uma lista de strings\n"
   ]
  },
  {
   "cell_type": "code",
   "execution_count": null,
   "id": "a370d2e9-2317-4a68-be21-8d79af6caca3",
   "metadata": {},
   "outputs": [],
   "source": [
    "nomes = [\"André\", \"Amanda\", \"Arthur\", \"Zé\"]"
   ]
  },
  {
   "cell_type": "markdown",
   "id": "8355cea0-bee8-4c72-9530-9668135c9abf",
   "metadata": {},
   "source": [
    "Podemos acessar cada uma das strings dessa lista através de seu <code>índice</code>, que é a posição que a string ocupa na lista.\n",
    "\n",
    "O número dos <code>índices</code> de uma lista começa em <code>0</code> e vai entre os colchetes após o nome da variável."
   ]
  },
  {
   "cell_type": "code",
   "execution_count": null,
   "id": "e0bb74e8-eb19-40bd-96f1-0dcbcd524517",
   "metadata": {},
   "outputs": [],
   "source": [
    "nomes[0] # imprime \"André\""
   ]
  },
  {
   "cell_type": "code",
   "execution_count": null,
   "id": "2517281b-daa6-48fd-b7ee-47d1c4b3f1bc",
   "metadata": {},
   "outputs": [],
   "source": [
    "nomes[1] # imprime \"Amanda\""
   ]
  },
  {
   "cell_type": "markdown",
   "id": "8fb37a90-0f9b-4c5e-becf-1acd3146d4a3",
   "metadata": {},
   "source": [
    "\n",
    "Abaixo vemos um exemplo da sintaxe usada para definir um intervalo de elementos de uma lista. Ou seja, como fazemos para acessar um pedaço da lista.\n",
    "\n",
    "Colocamos entre os colchetes um <code>índice inicial</code> e um <code>índice final</code> dos valores. Neste exemplo eles vão de 1 a 3.\n",
    "\n",
    "Execute o código e veja que o último valor não é incluído no intervalo. "
   ]
  },
  {
   "cell_type": "code",
   "execution_count": null,
   "id": "5dfa6782-f505-4e3e-84c9-2490488e0f50",
   "metadata": {},
   "outputs": [],
   "source": [
    "nomes[1:3]"
   ]
  },
  {
   "cell_type": "markdown",
   "id": "3e9f80f9-eef3-4975-bea8-df124f0e9bde",
   "metadata": {},
   "source": [
    "### Conjuntos: <code>set</code>\n",
    "\n",
    "Conjuntos são diferentes de listas porque os valores que fazem parte de um conjunto não podem se repetir e não estão ordenados.\n",
    "\n",
    "Usamos <code>chaves</code> para criar um conjunto"
   ]
  },
  {
   "cell_type": "code",
   "execution_count": null,
   "id": "cbd3a0d0-a95e-4d50-b9d8-fc9d2a4965ea",
   "metadata": {},
   "outputs": [],
   "source": [
    "nomes = {\"André\", \"Amanda\", \"Zé\", \"Amanda\"}\n",
    "print(nomes)"
   ]
  },
  {
   "cell_type": "markdown",
   "id": "1243bdf7-2225-407e-b852-de0256fce537",
   "metadata": {},
   "source": [
    "### Dicionário: <code>dict</code>\n",
    "\n",
    "Dicionários são usados para criar relações entre dois valores, que podem ser de qualquer tipo. Como em um dicionário de verdade, onde associamos um significado a uma palavra-chave.\n",
    "\n",
    "Abaixo, estamos criando um mapa que mapeia uma string (que contém um nome) a outra string (que contém um endereço)"
   ]
  },
  {
   "cell_type": "code",
   "execution_count": null,
   "id": "2f41daf1-cc99-4b57-9546-b1b4d3dbfac5",
   "metadata": {},
   "outputs": [],
   "source": [
    "enderecos = {\n",
    "  \"André\": \"Porto Alegre\",\n",
    "  \"Amanda\": \"Cachoeirinha\",\n",
    "  \"Bernardo\": \"Canoas\"\n",
    "}"
   ]
  },
  {
   "cell_type": "markdown",
   "id": "a6b4a089-8693-4684-9d78-93a9bee14f6b",
   "metadata": {},
   "source": [
    "Observe que o que estamos chamando de <code>dicionários</code> são como tabelas que têm apenas duas colunas, onde a primeira coluna é a <code>chave</code> que usamos para indexar os valores que estão armazenados na segunda coluna - que é chamada de coluna dos <code>valores</code>\n",
    "\n",
    "Para acessar os valores de um Dicionário usamos a <code>chave</code> como índice e recebemos como resposta o <code>valor</code> associado a ela."
   ]
  },
  {
   "cell_type": "code",
   "execution_count": null,
   "id": "33c79740-78e9-4727-a85a-82d2c40db7ea",
   "metadata": {},
   "outputs": [],
   "source": [
    "# retorna o valor \"Cachoeirinha\" e\n",
    "#armazena ele na variável cidade\n",
    "cidade = enderecos[\"Amanda\"]\n",
    "\n",
    "# imprime \"Cachoeirinha\"\n",
    "print(cidade)"
   ]
  }
 ],
 "metadata": {
  "kernelspec": {
   "display_name": "Python 3",
   "language": "python",
   "name": "python3"
  },
  "language_info": {
   "codemirror_mode": {
    "name": "ipython",
    "version": 3
   },
   "file_extension": ".py",
   "mimetype": "text/x-python",
   "name": "python",
   "nbconvert_exporter": "python",
   "pygments_lexer": "ipython3",
   "version": "3.13.2"
  }
 },
 "nbformat": 4,
 "nbformat_minor": 5
}
